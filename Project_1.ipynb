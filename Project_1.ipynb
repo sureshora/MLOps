{
  "nbformat": 4,
  "nbformat_minor": 0,
  "metadata": {
    "colab": {
      "provenance": [],
      "authorship_tag": "ABX9TyNJkVl8oyWtXv1ey1YKmYmd",
      "include_colab_link": true
    },
    "kernelspec": {
      "name": "python3",
      "display_name": "Python 3"
    },
    "language_info": {
      "name": "python"
    }
  },
  "cells": [
    {
      "cell_type": "markdown",
      "metadata": {
        "id": "view-in-github",
        "colab_type": "text"
      },
      "source": [
        "<a href=\"https://colab.research.google.com/github/sureshora/MLOps/blob/master/Project_1.ipynb\" target=\"_parent\"><img src=\"https://colab.research.google.com/assets/colab-badge.svg\" alt=\"Open In Colab\"/></a>"
      ]
    },
    {
      "cell_type": "markdown",
      "source": [
        "# **Project:1 ** Sentiment Intensity Analyser\n",
        "\n",
        "The **SentimentIntensityAnalyzer** class provides a method called polarity_scores() that takes **a piece of text as input** and returns a dictionary containing the sentiment scores for the text. The dictionary contains four keys: neg , neu , pos , and compound . neg : the negative sentiment score (between 0 and 1)."
      ],
      "metadata": {
        "id": "b99T__zoBJv7"
      }
    },
    {
      "cell_type": "code",
      "source": [
        "# Import NLTK and download the VADER lexicon\n",
        "import nltk\n",
        "nltk.download('vader_lexicon')\n",
        "from nltk.sentiment import SentimentIntensityAnalyzer"
      ],
      "metadata": {
        "colab": {
          "base_uri": "https://localhost:8080/"
        },
        "id": "vji4gnapNv65",
        "outputId": "ef8190c3-b09b-453c-b10c-912e77901d8d"
      },
      "execution_count": 7,
      "outputs": [
        {
          "output_type": "stream",
          "name": "stderr",
          "text": [
            "[nltk_data] Downloading package vader_lexicon to /root/nltk_data...\n",
            "[nltk_data]   Package vader_lexicon is already up-to-date!\n"
          ]
        }
      ]
    },
    {
      "cell_type": "code",
      "source": [
        "# Create a sentiment analyzer instance\n",
        "sia = SentimentIntensityAnalyzer()\n",
        "\n",
        "# Analyze the sentiment of a text\n",
        "text = \"I loved the movie !!! It was amazing.\"\n",
        "sentiment = sia.polarity_scores(text)"
      ],
      "metadata": {
        "id": "LRrVbCArBfHz"
      },
      "execution_count": 8,
      "outputs": []
    },
    {
      "cell_type": "code",
      "source": [
        "# Print the sentiment scores\n",
        "print(sentiment)"
      ],
      "metadata": {
        "colab": {
          "base_uri": "https://localhost:8080/"
        },
        "id": "kg3JloRYPuc5",
        "outputId": "5fc9d7af-0a89-4901-c4b8-a54d28cf4a3e"
      },
      "execution_count": 9,
      "outputs": [
        {
          "output_type": "stream",
          "name": "stdout",
          "text": [
            "{'neg': 0.0, 'neu': 0.368, 'pos': 0.632, 'compound': 0.8617}\n"
          ]
        }
      ]
    },
    {
      "cell_type": "markdown",
      "source": [
        "OutPut\n",
        "{'neg': 0.0, 'neu': 0.368, 'pos': 0.632, 'compound': 0.8617}\n",
        "In this example, we use the SentimentIntensityAnalyzer class from the NLTK library to perform sentiment analysis on the given text. The polarity_scores() method returns a dictionary of sentiment scores, including the negative (neg), neutral (neu), positive (pos), and compound (compound) scores.\n",
        "In the provided text, \"I loved the movie! It was amazing,\" the sentiment analysis indicates a highly positive sentiment.\n",
        "\n",
        "The** compound score of 0.8617 suggests a strong positive sentiment**, while the negative and neutral scores are close to zero, indicating minimal negativity or neutrality in the text.\n",
        "\n"
      ],
      "metadata": {
        "id": "pmgQwCEeP0pl"
      }
    }
  ]
}